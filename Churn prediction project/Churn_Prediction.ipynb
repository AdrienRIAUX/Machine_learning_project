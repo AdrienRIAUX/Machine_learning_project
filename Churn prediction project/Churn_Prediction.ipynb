{
 "cells": [
  {
   "cell_type": "markdown",
   "metadata": {},
   "source": [
    "# Chrun Prediction "
   ]
  },
  {
   "cell_type": "markdown",
   "metadata": {},
   "source": [
    "We have severals columns : \n",
    "- customerID : ID of customer\n",
    "- gender : customer gender\n",
    "- SeniorCitizen : whether the customer is a senoir citizen or not\n",
    "- Partner : whether the customer has a partner or not\n",
    "- Dependants : whether the customer has dependants or not\n",
    "- tenure : number of months the customer has stayed with the company\n",
    "- PhoneService : whether the customer has a phone service or not\n",
    "- MultipleLines : whether the customer has multiple lines or not\n",
    "- InternetService : customer's internet service provider\n",
    "- OnlineSecurity : whether the customer has online security or not\n",
    "- OnlieBackup : whether the customer has online backup or not\n",
    "- DeviceProtection : whether the customer has device protection or not\n",
    "- TechSupport : whether the customer has tech support or not\n",
    "- StreamingTV : whether the customer has streaming TV or not\n",
    "- StreamingMovies : whether the customer has streaming movies or not\n",
    "- Contract : the contract term of the customer\n",
    "- PaperlessBilling : whether the customer has paperless billing or not\n",
    "- PaymentMethod : the customer's payment method\n",
    "- MonthlyCharges : the amount charged to the customer monthly\n",
    "- TotalCharges : the total amount charged to the customer\n",
    "- Churn : whether the customer churned or not"
   ]
  },
  {
   "cell_type": "code",
   "execution_count": 1,
   "metadata": {},
   "outputs": [],
   "source": [
    "#Imports \n",
    "import pandas as pd \n",
    "import numpy as np\n",
    "import seaborn as sb\n",
    "import matplotlib.pyplot as plt\n",
    "import warnings \n",
    "\n",
    "warnings.filterwarnings('ignore')"
   ]
  },
  {
   "cell_type": "code",
   "execution_count": 3,
   "metadata": {},
   "outputs": [
    {
     "data": {
      "text/html": [
       "<div>\n",
       "<style scoped>\n",
       "    .dataframe tbody tr th:only-of-type {\n",
       "        vertical-align: middle;\n",
       "    }\n",
       "\n",
       "    .dataframe tbody tr th {\n",
       "        vertical-align: top;\n",
       "    }\n",
       "\n",
       "    .dataframe thead th {\n",
       "        text-align: right;\n",
       "    }\n",
       "</style>\n",
       "<table border=\"1\" class=\"dataframe\">\n",
       "  <thead>\n",
       "    <tr style=\"text-align: right;\">\n",
       "      <th></th>\n",
       "      <th>customerID</th>\n",
       "      <th>gender</th>\n",
       "      <th>SeniorCitizen</th>\n",
       "      <th>Partner</th>\n",
       "      <th>Dependents</th>\n",
       "      <th>tenure</th>\n",
       "      <th>PhoneService</th>\n",
       "      <th>MultipleLines</th>\n",
       "      <th>InternetService</th>\n",
       "      <th>OnlineSecurity</th>\n",
       "      <th>...</th>\n",
       "      <th>DeviceProtection</th>\n",
       "      <th>TechSupport</th>\n",
       "      <th>StreamingTV</th>\n",
       "      <th>StreamingMovies</th>\n",
       "      <th>Contract</th>\n",
       "      <th>PaperlessBilling</th>\n",
       "      <th>PaymentMethod</th>\n",
       "      <th>MonthlyCharges</th>\n",
       "      <th>TotalCharges</th>\n",
       "      <th>Churn</th>\n",
       "    </tr>\n",
       "  </thead>\n",
       "  <tbody>\n",
       "    <tr>\n",
       "      <th>0</th>\n",
       "      <td>7590-VHVEG</td>\n",
       "      <td>Female</td>\n",
       "      <td>0</td>\n",
       "      <td>Yes</td>\n",
       "      <td>No</td>\n",
       "      <td>1</td>\n",
       "      <td>No</td>\n",
       "      <td>No phone service</td>\n",
       "      <td>DSL</td>\n",
       "      <td>No</td>\n",
       "      <td>...</td>\n",
       "      <td>No</td>\n",
       "      <td>No</td>\n",
       "      <td>No</td>\n",
       "      <td>No</td>\n",
       "      <td>Month-to-month</td>\n",
       "      <td>Yes</td>\n",
       "      <td>Electronic check</td>\n",
       "      <td>29.85</td>\n",
       "      <td>29.85</td>\n",
       "      <td>No</td>\n",
       "    </tr>\n",
       "    <tr>\n",
       "      <th>1</th>\n",
       "      <td>5575-GNVDE</td>\n",
       "      <td>Male</td>\n",
       "      <td>0</td>\n",
       "      <td>No</td>\n",
       "      <td>No</td>\n",
       "      <td>34</td>\n",
       "      <td>Yes</td>\n",
       "      <td>No</td>\n",
       "      <td>DSL</td>\n",
       "      <td>Yes</td>\n",
       "      <td>...</td>\n",
       "      <td>Yes</td>\n",
       "      <td>No</td>\n",
       "      <td>No</td>\n",
       "      <td>No</td>\n",
       "      <td>One year</td>\n",
       "      <td>No</td>\n",
       "      <td>Mailed check</td>\n",
       "      <td>56.95</td>\n",
       "      <td>1889.5</td>\n",
       "      <td>No</td>\n",
       "    </tr>\n",
       "    <tr>\n",
       "      <th>2</th>\n",
       "      <td>3668-QPYBK</td>\n",
       "      <td>Male</td>\n",
       "      <td>0</td>\n",
       "      <td>No</td>\n",
       "      <td>No</td>\n",
       "      <td>2</td>\n",
       "      <td>Yes</td>\n",
       "      <td>No</td>\n",
       "      <td>DSL</td>\n",
       "      <td>Yes</td>\n",
       "      <td>...</td>\n",
       "      <td>No</td>\n",
       "      <td>No</td>\n",
       "      <td>No</td>\n",
       "      <td>No</td>\n",
       "      <td>Month-to-month</td>\n",
       "      <td>Yes</td>\n",
       "      <td>Mailed check</td>\n",
       "      <td>53.85</td>\n",
       "      <td>108.15</td>\n",
       "      <td>Yes</td>\n",
       "    </tr>\n",
       "    <tr>\n",
       "      <th>3</th>\n",
       "      <td>7795-CFOCW</td>\n",
       "      <td>Male</td>\n",
       "      <td>0</td>\n",
       "      <td>No</td>\n",
       "      <td>No</td>\n",
       "      <td>45</td>\n",
       "      <td>No</td>\n",
       "      <td>No phone service</td>\n",
       "      <td>DSL</td>\n",
       "      <td>Yes</td>\n",
       "      <td>...</td>\n",
       "      <td>Yes</td>\n",
       "      <td>Yes</td>\n",
       "      <td>No</td>\n",
       "      <td>No</td>\n",
       "      <td>One year</td>\n",
       "      <td>No</td>\n",
       "      <td>Bank transfer (automatic)</td>\n",
       "      <td>42.30</td>\n",
       "      <td>1840.75</td>\n",
       "      <td>No</td>\n",
       "    </tr>\n",
       "    <tr>\n",
       "      <th>4</th>\n",
       "      <td>9237-HQITU</td>\n",
       "      <td>Female</td>\n",
       "      <td>0</td>\n",
       "      <td>No</td>\n",
       "      <td>No</td>\n",
       "      <td>2</td>\n",
       "      <td>Yes</td>\n",
       "      <td>No</td>\n",
       "      <td>Fiber optic</td>\n",
       "      <td>No</td>\n",
       "      <td>...</td>\n",
       "      <td>No</td>\n",
       "      <td>No</td>\n",
       "      <td>No</td>\n",
       "      <td>No</td>\n",
       "      <td>Month-to-month</td>\n",
       "      <td>Yes</td>\n",
       "      <td>Electronic check</td>\n",
       "      <td>70.70</td>\n",
       "      <td>151.65</td>\n",
       "      <td>Yes</td>\n",
       "    </tr>\n",
       "  </tbody>\n",
       "</table>\n",
       "<p>5 rows × 21 columns</p>\n",
       "</div>"
      ],
      "text/plain": [
       "   customerID  gender  SeniorCitizen Partner Dependents  tenure PhoneService  \\\n",
       "0  7590-VHVEG  Female              0     Yes         No       1           No   \n",
       "1  5575-GNVDE    Male              0      No         No      34          Yes   \n",
       "2  3668-QPYBK    Male              0      No         No       2          Yes   \n",
       "3  7795-CFOCW    Male              0      No         No      45           No   \n",
       "4  9237-HQITU  Female              0      No         No       2          Yes   \n",
       "\n",
       "      MultipleLines InternetService OnlineSecurity  ... DeviceProtection  \\\n",
       "0  No phone service             DSL             No  ...               No   \n",
       "1                No             DSL            Yes  ...              Yes   \n",
       "2                No             DSL            Yes  ...               No   \n",
       "3  No phone service             DSL            Yes  ...              Yes   \n",
       "4                No     Fiber optic             No  ...               No   \n",
       "\n",
       "  TechSupport StreamingTV StreamingMovies        Contract PaperlessBilling  \\\n",
       "0          No          No              No  Month-to-month              Yes   \n",
       "1          No          No              No        One year               No   \n",
       "2          No          No              No  Month-to-month              Yes   \n",
       "3         Yes          No              No        One year               No   \n",
       "4          No          No              No  Month-to-month              Yes   \n",
       "\n",
       "               PaymentMethod MonthlyCharges  TotalCharges Churn  \n",
       "0           Electronic check          29.85         29.85    No  \n",
       "1               Mailed check          56.95        1889.5    No  \n",
       "2               Mailed check          53.85        108.15   Yes  \n",
       "3  Bank transfer (automatic)          42.30       1840.75    No  \n",
       "4           Electronic check          70.70        151.65   Yes  \n",
       "\n",
       "[5 rows x 21 columns]"
      ]
     },
     "execution_count": 3,
     "metadata": {},
     "output_type": "execute_result"
    }
   ],
   "source": [
    "#Read data\n",
    "df = pd.read_csv('churn_prediction.csv', dtype = {'gender' : str})\n",
    "df.head()"
   ]
  },
  {
   "cell_type": "markdown",
   "metadata": {},
   "source": [
    "First we don't need customerID columns, so we drop it. "
   ]
  },
  {
   "cell_type": "code",
   "execution_count": 4,
   "metadata": {},
   "outputs": [],
   "source": [
    "#Drop useless customerID columns\n",
    "df.drop('customerID', axis = 1, inplace = True)"
   ]
  },
  {
   "cell_type": "code",
   "execution_count": 5,
   "metadata": {},
   "outputs": [
    {
     "name": "stdout",
     "output_type": "stream",
     "text": [
      "<class 'pandas.core.frame.DataFrame'>\n",
      "RangeIndex: 7043 entries, 0 to 7042\n",
      "Data columns (total 20 columns):\n",
      " #   Column            Non-Null Count  Dtype  \n",
      "---  ------            --------------  -----  \n",
      " 0   gender            7043 non-null   object \n",
      " 1   SeniorCitizen     7043 non-null   int64  \n",
      " 2   Partner           7043 non-null   object \n",
      " 3   Dependents        7043 non-null   object \n",
      " 4   tenure            7043 non-null   int64  \n",
      " 5   PhoneService      7043 non-null   object \n",
      " 6   MultipleLines     7043 non-null   object \n",
      " 7   InternetService   7043 non-null   object \n",
      " 8   OnlineSecurity    7043 non-null   object \n",
      " 9   OnlineBackup      7043 non-null   object \n",
      " 10  DeviceProtection  7043 non-null   object \n",
      " 11  TechSupport       7043 non-null   object \n",
      " 12  StreamingTV       7043 non-null   object \n",
      " 13  StreamingMovies   7043 non-null   object \n",
      " 14  Contract          7043 non-null   object \n",
      " 15  PaperlessBilling  7043 non-null   object \n",
      " 16  PaymentMethod     7043 non-null   object \n",
      " 17  MonthlyCharges    7043 non-null   float64\n",
      " 18  TotalCharges      7043 non-null   object \n",
      " 19  Churn             7043 non-null   object \n",
      "dtypes: float64(1), int64(2), object(17)\n",
      "memory usage: 1.1+ MB\n"
     ]
    }
   ],
   "source": [
    "#Columns information\n",
    "df.info()"
   ]
  },
  {
   "cell_type": "markdown",
   "metadata": {},
   "source": [
    "It seems we don't have null values on our dataset, but when look closer dtypes columns, TotalCharges is an object columns. We will analyse why and convert it to float.\n",
    "When we use pd.to_numeric, we have an error, because severals rows have \" \" as value, so we check these rows."
   ]
  },
  {
   "cell_type": "code",
   "execution_count": 6,
   "metadata": {},
   "outputs": [
    {
     "data": {
      "text/plain": [
       "(11, 20)"
      ]
     },
     "execution_count": 6,
     "metadata": {},
     "output_type": "execute_result"
    }
   ],
   "source": [
    "#Observation \n",
    "df[pd.to_numeric(df['TotalCharges'], errors = 'coerce').isnull()].shape"
   ]
  },
  {
   "cell_type": "markdown",
   "metadata": {},
   "source": [
    "It represent less than 1% of our total shape, so we drop it. "
   ]
  },
  {
   "cell_type": "code",
   "execution_count": 7,
   "metadata": {},
   "outputs": [
    {
     "data": {
      "text/plain": [
       "(7032, 20)"
      ]
     },
     "execution_count": 7,
     "metadata": {},
     "output_type": "execute_result"
    }
   ],
   "source": [
    "#Drop blank total charges\n",
    "df = df[df['TotalCharges'] != \" \"]\n",
    "df.shape"
   ]
  },
  {
   "cell_type": "code",
   "execution_count": 8,
   "metadata": {},
   "outputs": [
    {
     "data": {
      "text/plain": [
       "dtype('float64')"
      ]
     },
     "execution_count": 8,
     "metadata": {},
     "output_type": "execute_result"
    }
   ],
   "source": [
    "#Convert total charges to numeric\n",
    "df['TotalCharges'] = pd.to_numeric(df['TotalCharges'])\n",
    "df['TotalCharges'].dtypes"
   ]
  },
  {
   "cell_type": "markdown",
   "metadata": {},
   "source": [
    "Now we have a lot of object columns, let's check them."
   ]
  },
  {
   "cell_type": "code",
   "execution_count": 9,
   "metadata": {},
   "outputs": [],
   "source": [
    "#Create a function to display unique values of object columns\n",
    "def unique_col_value(df) : \n",
    "    for col in df.select_dtypes('object').columns :\n",
    "        print(f\"{col :-<30} {df[col].unique()}\")"
   ]
  },
  {
   "cell_type": "code",
   "execution_count": 10,
   "metadata": {},
   "outputs": [
    {
     "name": "stdout",
     "output_type": "stream",
     "text": [
      "gender------------------------ ['Female' 'Male']\n",
      "Partner----------------------- ['Yes' 'No']\n",
      "Dependents-------------------- ['No' 'Yes']\n",
      "PhoneService------------------ ['No' 'Yes']\n",
      "MultipleLines----------------- ['No phone service' 'No' 'Yes']\n",
      "InternetService--------------- ['DSL' 'Fiber optic' 'No']\n",
      "OnlineSecurity---------------- ['No' 'Yes' 'No internet service']\n",
      "OnlineBackup------------------ ['Yes' 'No' 'No internet service']\n",
      "DeviceProtection-------------- ['No' 'Yes' 'No internet service']\n",
      "TechSupport------------------- ['No' 'Yes' 'No internet service']\n",
      "StreamingTV------------------- ['No' 'Yes' 'No internet service']\n",
      "StreamingMovies--------------- ['No' 'Yes' 'No internet service']\n",
      "Contract---------------------- ['Month-to-month' 'One year' 'Two year']\n",
      "PaperlessBilling-------------- ['Yes' 'No']\n",
      "PaymentMethod----------------- ['Electronic check' 'Mailed check' 'Bank transfer (automatic)'\n",
      " 'Credit card (automatic)']\n",
      "Churn------------------------- ['No' 'Yes']\n"
     ]
    }
   ],
   "source": [
    "unique_col_value(df)"
   ]
  },
  {
   "cell_type": "markdown",
   "metadata": {},
   "source": [
    "When we have \"No internet service\", we can replace by No, as well as \"No phone service\". "
   ]
  },
  {
   "cell_type": "code",
   "execution_count": 11,
   "metadata": {},
   "outputs": [
    {
     "name": "stdout",
     "output_type": "stream",
     "text": [
      "gender------------------------ ['Female' 'Male']\n",
      "Partner----------------------- ['Yes' 'No']\n",
      "Dependents-------------------- ['No' 'Yes']\n",
      "PhoneService------------------ ['No' 'Yes']\n",
      "MultipleLines----------------- ['No' 'Yes']\n",
      "InternetService--------------- ['DSL' 'Fiber optic' 'No']\n",
      "OnlineSecurity---------------- ['No' 'Yes']\n",
      "OnlineBackup------------------ ['Yes' 'No']\n",
      "DeviceProtection-------------- ['No' 'Yes']\n",
      "TechSupport------------------- ['No' 'Yes']\n",
      "StreamingTV------------------- ['No' 'Yes']\n",
      "StreamingMovies--------------- ['No' 'Yes']\n",
      "Contract---------------------- ['Month-to-month' 'One year' 'Two year']\n",
      "PaperlessBilling-------------- ['Yes' 'No']\n",
      "PaymentMethod----------------- ['Electronic check' 'Mailed check' 'Bank transfer (automatic)'\n",
      " 'Credit card (automatic)']\n",
      "Churn------------------------- ['No' 'Yes']\n"
     ]
    }
   ],
   "source": [
    "#Replace useless values\n",
    "for string in [\"No internet service\", \"No phone service\"] :\n",
    "    df.replace(string, \"No\", inplace = True)\n",
    "\n",
    "#Check result\n",
    "unique_col_value(df)"
   ]
  },
  {
   "cell_type": "markdown",
   "metadata": {},
   "source": [
    "Now we can do binary encoding for yes/no columns as well as female/male column."
   ]
  },
  {
   "cell_type": "code",
   "execution_count": 12,
   "metadata": {},
   "outputs": [
    {
     "name": "stdout",
     "output_type": "stream",
     "text": [
      "Partner----------------------- [1 0]\n",
      "Dependents-------------------- [0 1]\n",
      "PhoneService------------------ [0 1]\n",
      "MultipleLines----------------- [0 1]\n",
      "OnlineSecurity---------------- [0 1]\n",
      "OnlineBackup------------------ [1 0]\n",
      "DeviceProtection-------------- [0 1]\n",
      "TechSupport------------------- [0 1]\n",
      "StreamingTV------------------- [0 1]\n",
      "StreamingMovies--------------- [0 1]\n",
      "PaperlessBilling-------------- [1 0]\n",
      "Churn------------------------- [0 1]\n"
     ]
    }
   ],
   "source": [
    "#Create a liste of yes/no columns\n",
    "yes_no_col = []\n",
    "for col in df.select_dtypes('object').columns : \n",
    "    if col in [\"InternetService\", \"Contract\", \"PaymentMethod\", \"gender\"] :\n",
    "        continue\n",
    "    else :\n",
    "        yes_no_col.append(col)\n",
    "\n",
    "#Binary encoding\n",
    "for col in yes_no_col : \n",
    "    df[col].replace({\"Yes\" : 1, \"No\" : 0}, inplace = True)\n",
    "\n",
    "#Check result \n",
    "for col in yes_no_col : \n",
    "    print(f\"{col :-<30} {df[col].unique()}\")"
   ]
  },
  {
   "cell_type": "markdown",
   "metadata": {},
   "source": [
    "We use the same method for gender column."
   ]
  },
  {
   "cell_type": "code",
   "execution_count": 13,
   "metadata": {},
   "outputs": [
    {
     "name": "stdout",
     "output_type": "stream",
     "text": [
      "gender------------------------ [1 0]\n"
     ]
    }
   ],
   "source": [
    "#Binary encoding of gender columns\n",
    "df['gender'].replace({'Female' : 1, \"Male\" : 0}, inplace = True)\n",
    "\n",
    "#Check result \n",
    "for col in [\"gender\"] : \n",
    "    print(f\"{col :-<30} {df[col].unique()}\")"
   ]
  },
  {
   "cell_type": "markdown",
   "metadata": {},
   "source": [
    "The last object columns have more than two values, so it appropriate to use one hot encoding."
   ]
  },
  {
   "cell_type": "code",
   "execution_count": 14,
   "metadata": {},
   "outputs": [
    {
     "data": {
      "text/html": [
       "<div>\n",
       "<style scoped>\n",
       "    .dataframe tbody tr th:only-of-type {\n",
       "        vertical-align: middle;\n",
       "    }\n",
       "\n",
       "    .dataframe tbody tr th {\n",
       "        vertical-align: top;\n",
       "    }\n",
       "\n",
       "    .dataframe thead th {\n",
       "        text-align: right;\n",
       "    }\n",
       "</style>\n",
       "<table border=\"1\" class=\"dataframe\">\n",
       "  <thead>\n",
       "    <tr style=\"text-align: right;\">\n",
       "      <th></th>\n",
       "      <th>gender</th>\n",
       "      <th>SeniorCitizen</th>\n",
       "      <th>Partner</th>\n",
       "      <th>Dependents</th>\n",
       "      <th>tenure</th>\n",
       "      <th>PhoneService</th>\n",
       "      <th>MultipleLines</th>\n",
       "      <th>OnlineSecurity</th>\n",
       "      <th>OnlineBackup</th>\n",
       "      <th>DeviceProtection</th>\n",
       "      <th>...</th>\n",
       "      <th>InternetService_DSL</th>\n",
       "      <th>InternetService_Fiber optic</th>\n",
       "      <th>InternetService_No</th>\n",
       "      <th>Contract_Month-to-month</th>\n",
       "      <th>Contract_One year</th>\n",
       "      <th>Contract_Two year</th>\n",
       "      <th>PaymentMethod_Bank transfer (automatic)</th>\n",
       "      <th>PaymentMethod_Credit card (automatic)</th>\n",
       "      <th>PaymentMethod_Electronic check</th>\n",
       "      <th>PaymentMethod_Mailed check</th>\n",
       "    </tr>\n",
       "  </thead>\n",
       "  <tbody>\n",
       "    <tr>\n",
       "      <th>0</th>\n",
       "      <td>1</td>\n",
       "      <td>0</td>\n",
       "      <td>1</td>\n",
       "      <td>0</td>\n",
       "      <td>1</td>\n",
       "      <td>0</td>\n",
       "      <td>0</td>\n",
       "      <td>0</td>\n",
       "      <td>1</td>\n",
       "      <td>0</td>\n",
       "      <td>...</td>\n",
       "      <td>1</td>\n",
       "      <td>0</td>\n",
       "      <td>0</td>\n",
       "      <td>1</td>\n",
       "      <td>0</td>\n",
       "      <td>0</td>\n",
       "      <td>0</td>\n",
       "      <td>0</td>\n",
       "      <td>1</td>\n",
       "      <td>0</td>\n",
       "    </tr>\n",
       "    <tr>\n",
       "      <th>1</th>\n",
       "      <td>0</td>\n",
       "      <td>0</td>\n",
       "      <td>0</td>\n",
       "      <td>0</td>\n",
       "      <td>34</td>\n",
       "      <td>1</td>\n",
       "      <td>0</td>\n",
       "      <td>1</td>\n",
       "      <td>0</td>\n",
       "      <td>1</td>\n",
       "      <td>...</td>\n",
       "      <td>1</td>\n",
       "      <td>0</td>\n",
       "      <td>0</td>\n",
       "      <td>0</td>\n",
       "      <td>1</td>\n",
       "      <td>0</td>\n",
       "      <td>0</td>\n",
       "      <td>0</td>\n",
       "      <td>0</td>\n",
       "      <td>1</td>\n",
       "    </tr>\n",
       "    <tr>\n",
       "      <th>2</th>\n",
       "      <td>0</td>\n",
       "      <td>0</td>\n",
       "      <td>0</td>\n",
       "      <td>0</td>\n",
       "      <td>2</td>\n",
       "      <td>1</td>\n",
       "      <td>0</td>\n",
       "      <td>1</td>\n",
       "      <td>1</td>\n",
       "      <td>0</td>\n",
       "      <td>...</td>\n",
       "      <td>1</td>\n",
       "      <td>0</td>\n",
       "      <td>0</td>\n",
       "      <td>1</td>\n",
       "      <td>0</td>\n",
       "      <td>0</td>\n",
       "      <td>0</td>\n",
       "      <td>0</td>\n",
       "      <td>0</td>\n",
       "      <td>1</td>\n",
       "    </tr>\n",
       "    <tr>\n",
       "      <th>3</th>\n",
       "      <td>0</td>\n",
       "      <td>0</td>\n",
       "      <td>0</td>\n",
       "      <td>0</td>\n",
       "      <td>45</td>\n",
       "      <td>0</td>\n",
       "      <td>0</td>\n",
       "      <td>1</td>\n",
       "      <td>0</td>\n",
       "      <td>1</td>\n",
       "      <td>...</td>\n",
       "      <td>1</td>\n",
       "      <td>0</td>\n",
       "      <td>0</td>\n",
       "      <td>0</td>\n",
       "      <td>1</td>\n",
       "      <td>0</td>\n",
       "      <td>1</td>\n",
       "      <td>0</td>\n",
       "      <td>0</td>\n",
       "      <td>0</td>\n",
       "    </tr>\n",
       "    <tr>\n",
       "      <th>4</th>\n",
       "      <td>1</td>\n",
       "      <td>0</td>\n",
       "      <td>0</td>\n",
       "      <td>0</td>\n",
       "      <td>2</td>\n",
       "      <td>1</td>\n",
       "      <td>0</td>\n",
       "      <td>0</td>\n",
       "      <td>0</td>\n",
       "      <td>0</td>\n",
       "      <td>...</td>\n",
       "      <td>0</td>\n",
       "      <td>1</td>\n",
       "      <td>0</td>\n",
       "      <td>1</td>\n",
       "      <td>0</td>\n",
       "      <td>0</td>\n",
       "      <td>0</td>\n",
       "      <td>0</td>\n",
       "      <td>1</td>\n",
       "      <td>0</td>\n",
       "    </tr>\n",
       "  </tbody>\n",
       "</table>\n",
       "<p>5 rows × 27 columns</p>\n",
       "</div>"
      ],
      "text/plain": [
       "   gender  SeniorCitizen  Partner  Dependents  tenure  PhoneService  \\\n",
       "0       1              0        1           0       1             0   \n",
       "1       0              0        0           0      34             1   \n",
       "2       0              0        0           0       2             1   \n",
       "3       0              0        0           0      45             0   \n",
       "4       1              0        0           0       2             1   \n",
       "\n",
       "   MultipleLines  OnlineSecurity  OnlineBackup  DeviceProtection  ...  \\\n",
       "0              0               0             1                 0  ...   \n",
       "1              0               1             0                 1  ...   \n",
       "2              0               1             1                 0  ...   \n",
       "3              0               1             0                 1  ...   \n",
       "4              0               0             0                 0  ...   \n",
       "\n",
       "   InternetService_DSL  InternetService_Fiber optic  InternetService_No  \\\n",
       "0                    1                            0                   0   \n",
       "1                    1                            0                   0   \n",
       "2                    1                            0                   0   \n",
       "3                    1                            0                   0   \n",
       "4                    0                            1                   0   \n",
       "\n",
       "   Contract_Month-to-month  Contract_One year  Contract_Two year  \\\n",
       "0                        1                  0                  0   \n",
       "1                        0                  1                  0   \n",
       "2                        1                  0                  0   \n",
       "3                        0                  1                  0   \n",
       "4                        1                  0                  0   \n",
       "\n",
       "   PaymentMethod_Bank transfer (automatic)  \\\n",
       "0                                        0   \n",
       "1                                        0   \n",
       "2                                        0   \n",
       "3                                        1   \n",
       "4                                        0   \n",
       "\n",
       "   PaymentMethod_Credit card (automatic)  PaymentMethod_Electronic check  \\\n",
       "0                                      0                               1   \n",
       "1                                      0                               0   \n",
       "2                                      0                               0   \n",
       "3                                      0                               0   \n",
       "4                                      0                               1   \n",
       "\n",
       "   PaymentMethod_Mailed check  \n",
       "0                           0  \n",
       "1                           1  \n",
       "2                           1  \n",
       "3                           0  \n",
       "4                           0  \n",
       "\n",
       "[5 rows x 27 columns]"
      ]
     },
     "execution_count": 14,
     "metadata": {},
     "output_type": "execute_result"
    }
   ],
   "source": [
    "#One hot encoding\n",
    "df_clean = pd.get_dummies(df, columns = ['InternetService', 'Contract', 'PaymentMethod'])\n",
    "df_clean.head()"
   ]
  },
  {
   "cell_type": "markdown",
   "metadata": {},
   "source": [
    "Now our data is ready for EDA."
   ]
  },
  {
   "cell_type": "markdown",
   "metadata": {},
   "source": [
    "### Exploratory data analysis"
   ]
  },
  {
   "cell_type": "markdown",
   "metadata": {},
   "source": [
    "First we analyze tenure and churn. "
   ]
  },
  {
   "cell_type": "code",
   "execution_count": 15,
   "metadata": {},
   "outputs": [
    {
     "data": {
      "image/png": "[encoded data removed]",
      "text/plain": [
       "<Figure size 864x360 with 1 Axes>"
      ]
     },
     "metadata": {
      "needs_background": "light"
     },
     "output_type": "display_data"
    }
   ],
   "source": [
    "#Tenure analysis\n",
    "plt.figure(figsize = (12,5))\n",
    "sb.histplot(data = df_clean, x = 'tenure', hue = 'Churn', multiple = 'dodge')\n",
    "plt.show()"
   ]
  },
  {
   "cell_type": "markdown",
   "metadata": {},
   "source": [
    "This is very interesting, we can see that the higher the tenure the lower the churn. So tenure may be an important feature for classification."
   ]
  },
  {
   "cell_type": "code",
   "execution_count": 16,
   "metadata": {},
   "outputs": [
    {
     "data": {
      "image/png": "[encoded data removed]",
      "text/plain": [
       "<Figure size 864x576 with 1 Axes>"
      ]
     },
     "metadata": {},
     "output_type": "display_data"
    }
   ],
   "source": [
    "#Target balance\n",
    "plt.figure(figsize = (12,8))\n",
    "plt.pie(df_clean['Churn'].value_counts(), labels = df_clean['Churn'].unique(), autopct = \"%1.1f%%\")\n",
    "plt.show()"
   ]
  },
  {
   "cell_type": "markdown",
   "metadata": {},
   "source": [
    "We have a large majority of staying customers. So it is an imbalanced dataset.\n",
    "\n",
    "To achieve good result during classification, we will use over sampling algorithm like SMOTE. It enables to generate samples from the minority class, to have a balanced dataset.\n",
    "\n",
    "Another important feature could be the charges, more specifically the monthly and total charges."
   ]
  },
  {
   "cell_type": "code",
   "execution_count": 17,
   "metadata": {},
   "outputs": [
    {
     "data": {
      "image/png": "[encoded data removed]",
      "text/plain": [
       "<Figure size 864x360 with 1 Axes>"
      ]
     },
     "metadata": {
      "needs_background": "light"
     },
     "output_type": "display_data"
    },
    {
     "data": {
      "image/png": "[encoded data removed]",
      "text/plain": [
       "<Figure size 864x360 with 1 Axes>"
      ]
     },
     "metadata": {
      "needs_background": "light"
     },
     "output_type": "display_data"
    }
   ],
   "source": [
    "#Charges analysis\n",
    "df_churn = df_clean[df_clean['Churn'] == 1]\n",
    "df_non_churn = df_clean[df_clean['Churn'] == 0]\n",
    "\n",
    "for col in ['MonthlyCharges', 'TotalCharges'] : \n",
    "    plt.figure(figsize = (12,5))\n",
    "    sb.distplot(df_churn[col], label = \"1\")\n",
    "    sb.distplot(df_non_churn[col], label = \"0\")\n",
    "    plt.legend()\n",
    "    plt.show()"
   ]
  },
  {
   "cell_type": "markdown",
   "metadata": {},
   "source": [
    "We can see differences between the two classes, but there still a large overlap. Monthly charges could be more interesting than total charges, even if we will keep these two features."
   ]
  },
  {
   "cell_type": "code",
   "execution_count": 17,
   "metadata": {},
   "outputs": [
    {
     "data": {
      "image/png": "[encoded data removed]",
      "text/plain": [
       "<Figure size 1440x1440 with 12 Axes>"
      ]
     },
     "metadata": {
      "needs_background": "light"
     },
     "output_type": "display_data"
    }
   ],
   "source": [
    "#Churn proportion on over columns\n",
    "plt.figure(figsize=(20,20))\n",
    "for index, col in enumerate(yes_no_col) : \n",
    "    plt.subplot(4, 3, index+1)\n",
    "    sb.histplot(data = df_clean, x = col, hue = 'Churn', multiple = 'dodge')\n",
    "plt.show()"
   ]
  },
  {
   "cell_type": "markdown",
   "metadata": {},
   "source": [
    "Here, generally, we can see that when the customer take an option, there is less churn."
   ]
  },
  {
   "cell_type": "markdown",
   "metadata": {},
   "source": [
    "### Preprocessing"
   ]
  },
  {
   "cell_type": "code",
   "execution_count": 63,
   "metadata": {},
   "outputs": [],
   "source": [
    "#Import \n",
    "from collections import Counter\n",
    "from imblearn.over_sampling import SMOTE\n",
    "from sklearn.model_selection import GridSearchCV, StratifiedKFold, train_test_split\n",
    "from sklearn.metrics import confusion_matrix, classification_report, roc_curve, roc_auc_score\n",
    "from xgboost import XGBClassifier"
   ]
  },
  {
   "attachments": {},
   "cell_type": "markdown",
   "metadata": {},
   "source": [
    "First of all, we can split our data in train and test set."
   ]
  },
  {
   "cell_type": "code",
   "execution_count": 55,
   "metadata": {},
   "outputs": [
    {
     "name": "stdout",
     "output_type": "stream",
     "text": [
      "Shape of train set is (4922,)\n",
      "Shape of test set is (2110,)\n"
     ]
    }
   ],
   "source": [
    "# Split the target and predictor variables\n",
    "X = df_clean.drop('Churn', axis = 1)\n",
    "y = df_clean['Churn']\n",
    "\n",
    "#Split into train and test set\n",
    "(X_train,\n",
    " X_test,\n",
    " y_train,\n",
    " y_test) = train_test_split(X, y, test_size = 0.3, random_state = 10)\n",
    "\n",
    "#Shape verification \n",
    "for i, yt in zip([y_train, y_test], [\"train\", \"test\"]) : \n",
    "    print(f\"Shape of {yt} set is {i.shape}\")"
   ]
  },
  {
   "attachments": {},
   "cell_type": "markdown",
   "metadata": {},
   "source": [
    "The second operation is over sampling. We use SMOTE algorithm, for Synthetic Minority Oversampling Technique.  \n",
    "SMOTE works by selecting examples that are close in the feature space, drawing a line between the examples in the feature space and drawing a new sample at a point along that line.\n",
    "\n",
    "Specifically, a random example from the minority class is first chosen. Then k of the nearest neighbors for that example are found (typically k=5). A randomly selected neighbor is chosen and a synthetic example is created at a randomly selected point between the two examples in feature space."
   ]
  },
  {
   "cell_type": "code",
   "execution_count": 107,
   "metadata": {},
   "outputs": [
    {
     "name": "stdout",
     "output_type": "stream",
     "text": [
      "Original dataset shape : Counter({0: 3612, 1: 1310})\n",
      "Resampled dataset shape : Counter({0: 3612, 1: 3612})\n"
     ]
    }
   ],
   "source": [
    "#Dealing whith imbalanced dataset\n",
    "sm = SMOTE()\n",
    "print(\"Original dataset shape :\", Counter(y_train))\n",
    "X_train_smote, y_train_smote = sm.fit_resample(X_train, y_train)\n",
    "print(\"Resampled dataset shape :\", Counter(y_train_smote))"
   ]
  },
  {
   "cell_type": "markdown",
   "metadata": {},
   "source": [
    "The next step is modelization, so we are in a supervised learning task, more specifically in a classification task. There are a lot of algorithm for classification problem. But we will use XgBoost algorithm."
   ]
  },
  {
   "cell_type": "markdown",
   "metadata": {},
   "source": [
    "### Modeling"
   ]
  },
  {
   "attachments": {},
   "cell_type": "markdown",
   "metadata": {},
   "source": [
    "Boosting refers to any ensemble method that can combine weak learners into a strong learner. The general idea of most boosting methods is to train predictorssequentially, each trying to correct its predecesor.\n",
    "\n",
    "XgBoost for eXtrem Gradient Boosting is a very popular algorithm. As said before, XgBoost works by sequentially adding predictors to an ensemble, each one correcting its predecessor. However, this method tries to fit the new predictor to the residual errors made by the previous predictor. The residual errors is the distance between the sample and the fit.\n",
    "\n",
    "Since we are in a binary classification task, we initialize the objective function as binary logistic and the evaluation metric as logloss.  \n",
    "Logloss is defined as the negative log-likelihood of a logistic model that returns probabilities for its training data.\n",
    "\n",
    "We will compare the result with and without SMOTE using ROC AUC score, which more representative than accuracy when dealing with imbalanced dataset."
   ]
  },
  {
   "cell_type": "code",
   "execution_count": 113,
   "metadata": {},
   "outputs": [
    {
     "data": {
      "image/png": "[encoded data removed]",
      "text/plain": [
       "<Figure size 576x576 with 2 Axes>"
      ]
     },
     "metadata": {
      "needs_background": "light"
     },
     "output_type": "display_data"
    }
   ],
   "source": [
    "#Define based XGBoost model\n",
    "model = XGBClassifier(objective = \"binary:logistic\", eval_metric = 'logloss')\n",
    "model2 = XGBClassifier(objective = \"binary:logistic\", eval_metric = 'logloss')\n",
    "\n",
    "# Fit the models\n",
    "model.fit(X_train, y_train)\n",
    "model2.fit(X_train_smote, y_train_smote)\n",
    "\n",
    "#Get ROC AUC score\n",
    "train_score = roc_auc_score(y_train, model.predict_proba(X_train)[:, 1])\n",
    "test_score = roc_auc_score(y_test, model.predict_proba(X_test)[:, 1])\n",
    "train_score_smote = roc_auc_score(y_train_smote, model2.predict_proba(X_train_smote)[:, 1])\n",
    "test_score_smote = roc_auc_score(y_test, model2.predict_proba(X_test)[:, 1])\n",
    "\n",
    "# Create a dataframe to display result\n",
    "scores = {\n",
    "    \"Train ROC AUC score\": [train_score, train_score_smote], \n",
    "    \"Test ROC AUC score\": [test_score, test_score_smote]\n",
    "}\n",
    "index = [\"Without SMOTE\", \"With SMOTE\"]\n",
    "df_result = pd.DataFrame(data = scores, index = index)\n",
    "\n",
    "plt.figure(figsize = (8,8))\n",
    "sb.heatmap(df_result, annot=True)\n",
    "plt.show()"
   ]
  },
  {
   "attachments": {},
   "cell_type": "markdown",
   "metadata": {},
   "source": [
    "We can see that there is no difference between the classifications with or without SMOTE. It can be explained by the fact that SMOTE struggle with overlapping classes. Since the KNN algorithm behind will just add more overlap, it can be consider as noise. In other words, we will continue with the train set withou SMOTE and try to penalize errors made on the majority class.\n",
    "\n",
    "Nevertheless, we can see that we are overfitting our data. So, to better understand our ressult on the test set, we can use classification report. It give us the precision, the recall and the f1 score for each class."
   ]
  },
  {
   "cell_type": "code",
   "execution_count": 74,
   "metadata": {},
   "outputs": [
    {
     "name": "stdout",
     "output_type": "stream",
     "text": [
      "              precision    recall  f1-score   support\n",
      "\n",
      "           0       0.85      0.88      0.86      1551\n",
      "           1       0.63      0.58      0.60       559\n",
      "\n",
      "    accuracy                           0.80      2110\n",
      "   macro avg       0.74      0.73      0.73      2110\n",
      "weighted avg       0.79      0.80      0.80      2110\n",
      "\n"
     ]
    }
   ],
   "source": [
    "#Classification report\n",
    "y_pred = model.predict(X_test)\n",
    "print(classification_report(y_test, y_pred))"
   ]
  },
  {
   "attachments": {},
   "cell_type": "markdown",
   "metadata": {},
   "source": [
    "Even if we have very good result, our performance decrease considerably on prediction of the class 1. This due to the imbalanced dataset. \n",
    "But we can improve our result by tuning XgBoost algorithm, by making the classifier more simple to generalize better, or adding some penalty to bad classification on class 1 for example."
   ]
  },
  {
   "cell_type": "markdown",
   "metadata": {},
   "source": [
    "### Optimization "
   ]
  },
  {
   "attachments": {},
   "cell_type": "markdown",
   "metadata": {},
   "source": [
    "To tune an XgBoost model, we define two hyper-parameters types.  \n",
    "\n",
    "Tree-based parameters :  \n",
    "- max_depth\n",
    "- min_child_weight\n",
    "- colsample_bytree\n",
    "- subsample\n",
    "\n",
    "Regularization parameters :\n",
    "- learning_rate\n",
    "- n_estimators\n",
    "- scale_pos_weight\n",
    "\n",
    "We use GridSearchCV which search for any combination of parameters using cross-validation to ensure result. But since we have imbalanced dataset, we will use StratifiedKFold cross validation method. \n",
    "\n",
    "Stratified cross validation (or StratifiedKFold) is a variation of the base cross validation technique avaliable in sklearn (KFold), which return stratified fold: each set contains approximately the same percentage of samples of each target class as the complete set. So StratifiedKFold keeps the class proportions the same across all of the folds, which is vital for maintaining a representative subset of our data set.\n",
    "\n",
    "We begin by tree-based parameters, once fixed, we tune regularization parameters."
   ]
  },
  {
   "cell_type": "code",
   "execution_count": 114,
   "metadata": {},
   "outputs": [
    {
     "name": "stdout",
     "output_type": "stream",
     "text": [
      "{'learning_rate': 0.3, 'n_estimators': 100, 'scale_pos_weight': None}\n",
      "0.8450704401459209\n"
     ]
    }
   ],
   "source": [
    "#Define parameters to optimize\n",
    "params = {\n",
    "    'n_estimators' : [100, 200],\n",
    "    'learning_rate' : [0.4, 0.3, 0.2],\n",
    "    'scale_pos_weight' : [None, 3, 10] \n",
    "}\n",
    "\n",
    "#Optimization\n",
    "grid_search = GridSearchCV(\n",
    "    XGBClassifier(\n",
    "        objective = \"binary:logistic\", eval_metric = 'logloss',\n",
    "        max_depth = 1, min_child_weight = 10, subsample = 0.95,\n",
    "        colsample_bytree = 0.95,\n",
    "    ), \n",
    "    param_grid = params, \n",
    "    scoring = 'roc_auc',\n",
    "    cv = StratifiedKFold(n_splits = 3)\n",
    ")\n",
    "grid_search.fit(X_train, y_train)\n",
    "\n",
    "#Assign the best model  \n",
    "model = grid_search.best_estimator_\n",
    "\n",
    "print(grid_search.best_params_)\n",
    "print(grid_search.best_score_)"
   ]
  },
  {
   "attachments": {},
   "cell_type": "markdown",
   "metadata": {},
   "source": [
    "We have now tuned our model, and we can see that the ROC AUC score using StratifiedKFold cross validation is around our previous test score. But as training score, it is more representative of our result than before.\n",
    "\n",
    "We can check our result on the test set."
   ]
  },
  {
   "cell_type": "code",
   "execution_count": 115,
   "metadata": {},
   "outputs": [
    {
     "name": "stdout",
     "output_type": "stream",
     "text": [
      "Test score : 0.8607938325899731\n"
     ]
    }
   ],
   "source": [
    "#Predictions probabilities\n",
    "y_proba = model.predict_proba(X_test)\n",
    "\n",
    "#Score\n",
    "print(f\"Test score : {roc_auc_score(y_test, y_proba[:, 1])}\")"
   ]
  },
  {
   "attachments": {},
   "cell_type": "markdown",
   "metadata": {},
   "source": [
    "We define our model we the best combination of parameters, which have a ROC AUC score of 86%. This is not much better than without parameters optimization, but it's always a good thing.\n",
    "\n",
    "Another ways to visualize our result is to use ROC curve analysis and confusion matrix."
   ]
  },
  {
   "cell_type": "code",
   "execution_count": 116,
   "metadata": {},
   "outputs": [],
   "source": [
    "#Get y_scores\n",
    "y_scores = model.predict_proba(X_test)\n",
    "y_scores = y_scores[:, 1]\n",
    "\n",
    "#ROC curve \n",
    "fpr, tpr, thresholds = roc_curve(y_test, y_scores)\n",
    "\n",
    "#G-mean score\n",
    "gmeans = np.sqrt(tpr * (1-fpr))\n",
    "idx = np.argmax(gmeans)\n",
    "\n",
    "#Plotting function\n",
    "def plot_roc_curve(fpr, tpr, label = None) : \n",
    "    plt.figure(figsize = (12,5))\n",
    "    plt.plot(fpr, tpr, label = label)\n",
    "    plt.plot([0,1], [0,1], 'k--', label = \"NoSkill\")\n",
    "    plt.scatter(fpr[idx], tpr[idx], marker = 'o', c = 'C3', label = \"Best threshold\", zorder = 3)\n",
    "    plt.xlabel(\"False positive rate\")\n",
    "    plt.ylabel(\"True positive rate\")\n",
    "    plt.legend(loc = \"lower right\")\n",
    "    plt.show()"
   ]
  },
  {
   "cell_type": "markdown",
   "metadata": {},
   "source": [
    "The receiver operating characteristique (ROC) curve is another common tool used with binary classifiers. It plots the true positive rate (TPR) against the false positive rate (FPR). The FPR is the ratio of negative instances that are incorrectly classified as positive and the TPR is the ratio of positive instance that are correctly classified as positive.  \n",
    "In fact the ROC curve plot the sensivity (recall) versus 1 - specifity (true negative rate). "
   ]
  },
  {
   "cell_type": "code",
   "execution_count": 117,
   "metadata": {},
   "outputs": [
    {
     "data": {
      "image/png": "[encoded data removed]",
      "text/plain": [
       "<Figure size 864x360 with 1 Axes>"
      ]
     },
     "metadata": {
      "needs_background": "light"
     },
     "output_type": "display_data"
    },
    {
     "name": "stdout",
     "output_type": "stream",
     "text": [
      "Best threshold = 0.318 with G-mean score = 0.774\n"
     ]
    }
   ],
   "source": [
    "#Visualize ROC curve\n",
    "plot_roc_curve(fpr, tpr, \"XgBoost\")\n",
    "print(f\"Best threshold = {thresholds[idx]:.3f} with G-mean score = {gmeans[idx]:.3f}\")"
   ]
  },
  {
   "attachments": {},
   "cell_type": "markdown",
   "metadata": {},
   "source": [
    "We can see that we have a roughly good curve, which tell us that the model is correct. Then, the best threshold is arroung 0.318. So if we want, we can get the probability score for each prediction made by the model and apply this threshold rather the default (0.5).  \n",
    "But we will keep the default and use confusion matrix to see our result on the test set first and compare it with the best threshold."
   ]
  },
  {
   "cell_type": "code",
   "execution_count": 118,
   "metadata": {},
   "outputs": [
    {
     "data": {
      "image/png": "[encoded data removed]",
      "text/plain": [
       "<Figure size 576x576 with 2 Axes>"
      ]
     },
     "metadata": {
      "needs_background": "light"
     },
     "output_type": "display_data"
    }
   ],
   "source": [
    "#Prediction \n",
    "y_pred = model.predict(X_test)\n",
    "\n",
    "#Confusion matrix\n",
    "plt.figure(figsize=(8,8))\n",
    "sb.heatmap(confusion_matrix(y_test, y_pred), annot=True, fmt = 'g')\n",
    "plt.xlabel(\"Reality\")\n",
    "plt.ylabel(\"Model prediction\")\n",
    "plt.show()"
   ]
  },
  {
   "attachments": {},
   "cell_type": "markdown",
   "metadata": {},
   "source": [
    "We can see that we have very good result for class 0, but the model continue to struggle a lot on the class 1."
   ]
  },
  {
   "cell_type": "code",
   "execution_count": 119,
   "metadata": {},
   "outputs": [
    {
     "data": {
      "image/png": "[encoded data removed]",
      "text/plain": [
       "<Figure size 576x576 with 2 Axes>"
      ]
     },
     "metadata": {
      "needs_background": "light"
     },
     "output_type": "display_data"
    }
   ],
   "source": [
    "#Define the threshold\n",
    "threshold = 0.318\n",
    "#Prediction\n",
    "y_proba = model.predict_proba(X_test)\n",
    "y_pred = np.where(y_proba[:, 1] > threshold, 1, 0)\n",
    "\n",
    "#Confusion matrix\n",
    "plt.figure(figsize=(8,8))\n",
    "sb.heatmap(confusion_matrix(y_test, y_pred), annot=True, fmt = 'g')\n",
    "plt.xlabel(\"Reality\")\n",
    "plt.ylabel(\"Model prediction\")\n",
    "plt.show()"
   ]
  },
  {
   "attachments": {},
   "cell_type": "markdown",
   "metadata": {},
   "source": [
    "Using this threshold, we improve our result, but at the cost of false positive errors."
   ]
  },
  {
   "attachments": {},
   "cell_type": "markdown",
   "metadata": {},
   "source": [
    "### Conclusion\n",
    "\n",
    "To conclude, we see in this project two main points. SMOTE algorithm for imbalanced dataset, and XgBoost algorithm for boosting method.  \n",
    "First we try to use SMOTE to create synthetic samples of our minority class. But the result were insufficient.\n",
    "So we use eXtrem Gradient Boosting algorithm for binary classification without SMOTE as preprocessing part. XgBoost may be a little diffcult to tune but is an extremely fast and powerfull method. \n",
    "\n",
    "We achieve some good result and visualize it with ROC curve and confusion matrix. Which are both good tools for result analysis.\n",
    "\n",
    "Finally we analyzed the best threshold to improve our result of true negative rate, but it decrease our result of false positive rate, which is not a big issue since in this case. "
   ]
  }
 ],
 "metadata": {
  "kernelspec": {
   "display_name": "Python 3.8.5 ('base')",
   "language": "python",
   "name": "python3"
  },
  "language_info": {
   "codemirror_mode": {
    "name": "ipython",
    "version": 3
   },
   "file_extension": ".py",
   "mimetype": "text/x-python",
   "name": "python",
   "nbconvert_exporter": "python",
   "pygments_lexer": "ipython3",
   "version": "3.8.5"
  },
  "orig_nbformat": 4,
  "vscode": {
   "interpreter": {
    "hash": "bfb5a87c35bcd43997975c71900d67fd988e3d78f446c88335b459b4ff2da931"
   }
  }
 },
 "nbformat": 4,
 "nbformat_minor": 2
}
